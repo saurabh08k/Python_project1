{
 "cells": [
  {
   "cell_type": "markdown",
   "id": "fa1a79b2",
   "metadata": {},
   "source": [
    "# Password Generator Project\n",
    "\n"
   ]
  },
  {
   "cell_type": "code",
   "execution_count": 2,
   "id": "ae299edc",
   "metadata": {},
   "outputs": [],
   "source": [
    "import random"
   ]
  },
  {
   "cell_type": "code",
   "execution_count": 3,
   "id": "e07ea358",
   "metadata": {},
   "outputs": [],
   "source": [
    "letters = ['a', 'b', 'c', 'd', 'e', 'f', 'g', 'h', 'i', 'j', 'k', 'l', 'm', 'n', 'o', 'p', 'q', 'r', 's', 't', 'u', 'v', 'w', 'x', 'y', 'z', 'A', 'B', 'C', 'D', 'E', 'F', 'G', 'H', 'I', 'J', 'K', 'L', 'M', 'N', 'O', 'P', 'Q', 'R', 'S', 'T', 'U', 'V', 'W', 'X', 'Y', 'Z']\n",
    "numbers = ['0', '1', '2', '3', '4', '5', '6', '7', '8', '9']\n",
    "symbols = ['!', '#', '$', '%', '&', '(', ')', '*', '+']"
   ]
  },
  {
   "cell_type": "code",
   "execution_count": 4,
   "id": "31a799d3",
   "metadata": {},
   "outputs": [
    {
     "name": "stdout",
     "output_type": "stream",
     "text": [
      "Welcome to the PythonPassword Generator!\n"
     ]
    }
   ],
   "source": [
    "print(\"Welcome to the PythonPassword Generator!\")"
   ]
  },
  {
   "cell_type": "markdown",
   "id": "dec813b5",
   "metadata": {},
   "source": [
    "Input from the user.\n"
   ]
  },
  {
   "cell_type": "code",
   "execution_count": 5,
   "id": "7f768292",
   "metadata": {},
   "outputs": [
    {
     "name": "stdout",
     "output_type": "stream",
     "text": [
      "How many letters would you like in your password?\n",
      "5\n",
      "How many symbols would you like?\n",
      "2\n",
      "How many numbers would you like?\n",
      "2\n"
     ]
    }
   ],
   "source": [
    "nr_letters= int(input(\"How many letters would you like in your password?\\n\"))\n",
    "nr_symbols = int(input(f\"How many symbols would you like?\\n\"))\n",
    "nr_numbers = int(input(f\"How many numbers would you like?\\n\"))\n"
   ]
  },
  {
   "cell_type": "markdown",
   "id": "52c6a40a",
   "metadata": {},
   "source": [
    " Storing all characters of password in a list."
   ]
  },
  {
   "cell_type": "code",
   "execution_count": 6,
   "id": "2ba346fb",
   "metadata": {},
   "outputs": [],
   "source": [
    "password_list = []\n",
    "for item1 in range(1,nr_letters+1):\n",
    "    password_list.append(random.choice(letters))\n",
    "for item2 in range(1,nr_symbols+1):\n",
    "    password_list.append(random.choice(symbols))\n",
    "for item3 in range(1,nr_numbers+1):\n",
    "    password_list.append(random.choice(numbers))"
   ]
  },
  {
   "cell_type": "markdown",
   "id": "f77312de",
   "metadata": {},
   "source": [
    " Now reordering the characters in password_list."
   ]
  },
  {
   "cell_type": "code",
   "execution_count": 8,
   "id": "7a03aafb",
   "metadata": {},
   "outputs": [],
   "source": [
    "random.shuffle(password_list)"
   ]
  },
  {
   "cell_type": "markdown",
   "id": "ea5ac874",
   "metadata": {},
   "source": [
    "Converting list into string."
   ]
  },
  {
   "cell_type": "code",
   "execution_count": 9,
   "id": "d36dbf14",
   "metadata": {},
   "outputs": [
    {
     "name": "stdout",
     "output_type": "stream",
     "text": [
      "Your new password is: *!8x4AGWu\n"
     ]
    }
   ],
   "source": [
    "password = \"\"\n",
    "for char in password_list:\n",
    "    password += char\n",
    "print(\"Your new password is: \" + password)"
   ]
  },
  {
   "cell_type": "code",
   "execution_count": null,
   "id": "c3599080",
   "metadata": {},
   "outputs": [],
   "source": []
  }
 ],
 "metadata": {
  "kernelspec": {
   "display_name": "Python 3 (ipykernel)",
   "language": "python",
   "name": "python3"
  },
  "language_info": {
   "codemirror_mode": {
    "name": "ipython",
    "version": 3
   },
   "file_extension": ".py",
   "mimetype": "text/x-python",
   "name": "python",
   "nbconvert_exporter": "python",
   "pygments_lexer": "ipython3",
   "version": "3.9.12"
  }
 },
 "nbformat": 4,
 "nbformat_minor": 5
}
